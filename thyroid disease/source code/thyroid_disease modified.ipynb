{
  "cells": [
    {
      "cell_type": "markdown",
      "id": "0b277408",
      "metadata": {
        "papermill": {
          "duration": 0.039641,
          "end_time": "2021-10-24T05:00:53.131730",
          "exception": false,
          "start_time": "2021-10-24T05:00:53.092089",
          "status": "completed"
        },
        "tags": [],
        "id": "0b277408"
      },
      "source": [
        "## **Import Libraries**"
      ]
    },
    {
      "cell_type": "code",
      "execution_count": 1,
      "id": "62e5ffd5",
      "metadata": {
        "execution": {
          "iopub.execute_input": "2021-10-24T05:00:53.218140Z",
          "iopub.status.busy": "2021-10-24T05:00:53.216262Z",
          "iopub.status.idle": "2021-10-24T05:00:54.706608Z",
          "shell.execute_reply": "2021-10-24T05:00:54.705814Z",
          "shell.execute_reply.started": "2021-10-24T04:56:40.683381Z"
        },
        "papermill": {
          "duration": 1.534991,
          "end_time": "2021-10-24T05:00:54.706771",
          "exception": false,
          "start_time": "2021-10-24T05:00:53.171780",
          "status": "completed"
        },
        "tags": [],
        "id": "62e5ffd5"
      },
      "outputs": [],
      "source": [
        "#pandas\n",
        "import pandas as pd\n",
        "\n",
        "#numpy\n",
        "import numpy as np\n",
        "\n",
        "#matplotlib\n",
        "import matplotlib.pyplot as plt\n",
        "\n",
        "#seaborn\n",
        "import seaborn as sns\n",
        "\n",
        "#sklearn\n",
        "from sklearn.linear_model import LogisticRegression\n",
        "from sklearn.svm import SVC\n",
        "from sklearn.metrics import classification_report,f1_score\n",
        "from sklearn.ensemble import RandomForestClassifier\n",
        "from sklearn.preprocessing import LabelEncoder\n",
        "from imblearn.over_sampling import SMOTE\n",
        "from sklearn.model_selection import train_test_split\n",
        "from sklearn.preprocessing import MinMaxScaler\n",
        "import pickle\n",
        "import warnings\n",
        "warnings.filterwarnings('ignore')"
      ]
    },
    {
      "cell_type": "code",
      "source": [
        "from google.colab import files\n",
        "uploades = files.upload()"
      ],
      "metadata": {
        "colab": {
          "base_uri": "https://localhost:8080/",
          "height": 73
        },
        "id": "AAugTAsmPVKU",
        "outputId": "0c1e20d0-2cc8-4698-99fa-a4ad0682c3b7"
      },
      "id": "AAugTAsmPVKU",
      "execution_count": 2,
      "outputs": [
        {
          "output_type": "display_data",
          "data": {
            "text/plain": [
              "<IPython.core.display.HTML object>"
            ],
            "text/html": [
              "\n",
              "     <input type=\"file\" id=\"files-9e3a2ece-673b-41c3-99e5-74bf62504dff\" name=\"files[]\" multiple disabled\n",
              "        style=\"border:none\" />\n",
              "     <output id=\"result-9e3a2ece-673b-41c3-99e5-74bf62504dff\">\n",
              "      Upload widget is only available when the cell has been executed in the\n",
              "      current browser session. Please rerun this cell to enable.\n",
              "      </output>\n",
              "      <script>// Copyright 2017 Google LLC\n",
              "//\n",
              "// Licensed under the Apache License, Version 2.0 (the \"License\");\n",
              "// you may not use this file except in compliance with the License.\n",
              "// You may obtain a copy of the License at\n",
              "//\n",
              "//      http://www.apache.org/licenses/LICENSE-2.0\n",
              "//\n",
              "// Unless required by applicable law or agreed to in writing, software\n",
              "// distributed under the License is distributed on an \"AS IS\" BASIS,\n",
              "// WITHOUT WARRANTIES OR CONDITIONS OF ANY KIND, either express or implied.\n",
              "// See the License for the specific language governing permissions and\n",
              "// limitations under the License.\n",
              "\n",
              "/**\n",
              " * @fileoverview Helpers for google.colab Python module.\n",
              " */\n",
              "(function(scope) {\n",
              "function span(text, styleAttributes = {}) {\n",
              "  const element = document.createElement('span');\n",
              "  element.textContent = text;\n",
              "  for (const key of Object.keys(styleAttributes)) {\n",
              "    element.style[key] = styleAttributes[key];\n",
              "  }\n",
              "  return element;\n",
              "}\n",
              "\n",
              "// Max number of bytes which will be uploaded at a time.\n",
              "const MAX_PAYLOAD_SIZE = 100 * 1024;\n",
              "\n",
              "function _uploadFiles(inputId, outputId) {\n",
              "  const steps = uploadFilesStep(inputId, outputId);\n",
              "  const outputElement = document.getElementById(outputId);\n",
              "  // Cache steps on the outputElement to make it available for the next call\n",
              "  // to uploadFilesContinue from Python.\n",
              "  outputElement.steps = steps;\n",
              "\n",
              "  return _uploadFilesContinue(outputId);\n",
              "}\n",
              "\n",
              "// This is roughly an async generator (not supported in the browser yet),\n",
              "// where there are multiple asynchronous steps and the Python side is going\n",
              "// to poll for completion of each step.\n",
              "// This uses a Promise to block the python side on completion of each step,\n",
              "// then passes the result of the previous step as the input to the next step.\n",
              "function _uploadFilesContinue(outputId) {\n",
              "  const outputElement = document.getElementById(outputId);\n",
              "  const steps = outputElement.steps;\n",
              "\n",
              "  const next = steps.next(outputElement.lastPromiseValue);\n",
              "  return Promise.resolve(next.value.promise).then((value) => {\n",
              "    // Cache the last promise value to make it available to the next\n",
              "    // step of the generator.\n",
              "    outputElement.lastPromiseValue = value;\n",
              "    return next.value.response;\n",
              "  });\n",
              "}\n",
              "\n",
              "/**\n",
              " * Generator function which is called between each async step of the upload\n",
              " * process.\n",
              " * @param {string} inputId Element ID of the input file picker element.\n",
              " * @param {string} outputId Element ID of the output display.\n",
              " * @return {!Iterable<!Object>} Iterable of next steps.\n",
              " */\n",
              "function* uploadFilesStep(inputId, outputId) {\n",
              "  const inputElement = document.getElementById(inputId);\n",
              "  inputElement.disabled = false;\n",
              "\n",
              "  const outputElement = document.getElementById(outputId);\n",
              "  outputElement.innerHTML = '';\n",
              "\n",
              "  const pickedPromise = new Promise((resolve) => {\n",
              "    inputElement.addEventListener('change', (e) => {\n",
              "      resolve(e.target.files);\n",
              "    });\n",
              "  });\n",
              "\n",
              "  const cancel = document.createElement('button');\n",
              "  inputElement.parentElement.appendChild(cancel);\n",
              "  cancel.textContent = 'Cancel upload';\n",
              "  const cancelPromise = new Promise((resolve) => {\n",
              "    cancel.onclick = () => {\n",
              "      resolve(null);\n",
              "    };\n",
              "  });\n",
              "\n",
              "  // Wait for the user to pick the files.\n",
              "  const files = yield {\n",
              "    promise: Promise.race([pickedPromise, cancelPromise]),\n",
              "    response: {\n",
              "      action: 'starting',\n",
              "    }\n",
              "  };\n",
              "\n",
              "  cancel.remove();\n",
              "\n",
              "  // Disable the input element since further picks are not allowed.\n",
              "  inputElement.disabled = true;\n",
              "\n",
              "  if (!files) {\n",
              "    return {\n",
              "      response: {\n",
              "        action: 'complete',\n",
              "      }\n",
              "    };\n",
              "  }\n",
              "\n",
              "  for (const file of files) {\n",
              "    const li = document.createElement('li');\n",
              "    li.append(span(file.name, {fontWeight: 'bold'}));\n",
              "    li.append(span(\n",
              "        `(${file.type || 'n/a'}) - ${file.size} bytes, ` +\n",
              "        `last modified: ${\n",
              "            file.lastModifiedDate ? file.lastModifiedDate.toLocaleDateString() :\n",
              "                                    'n/a'} - `));\n",
              "    const percent = span('0% done');\n",
              "    li.appendChild(percent);\n",
              "\n",
              "    outputElement.appendChild(li);\n",
              "\n",
              "    const fileDataPromise = new Promise((resolve) => {\n",
              "      const reader = new FileReader();\n",
              "      reader.onload = (e) => {\n",
              "        resolve(e.target.result);\n",
              "      };\n",
              "      reader.readAsArrayBuffer(file);\n",
              "    });\n",
              "    // Wait for the data to be ready.\n",
              "    let fileData = yield {\n",
              "      promise: fileDataPromise,\n",
              "      response: {\n",
              "        action: 'continue',\n",
              "      }\n",
              "    };\n",
              "\n",
              "    // Use a chunked sending to avoid message size limits. See b/62115660.\n",
              "    let position = 0;\n",
              "    do {\n",
              "      const length = Math.min(fileData.byteLength - position, MAX_PAYLOAD_SIZE);\n",
              "      const chunk = new Uint8Array(fileData, position, length);\n",
              "      position += length;\n",
              "\n",
              "      const base64 = btoa(String.fromCharCode.apply(null, chunk));\n",
              "      yield {\n",
              "        response: {\n",
              "          action: 'append',\n",
              "          file: file.name,\n",
              "          data: base64,\n",
              "        },\n",
              "      };\n",
              "\n",
              "      let percentDone = fileData.byteLength === 0 ?\n",
              "          100 :\n",
              "          Math.round((position / fileData.byteLength) * 100);\n",
              "      percent.textContent = `${percentDone}% done`;\n",
              "\n",
              "    } while (position < fileData.byteLength);\n",
              "  }\n",
              "\n",
              "  // All done.\n",
              "  yield {\n",
              "    response: {\n",
              "      action: 'complete',\n",
              "    }\n",
              "  };\n",
              "}\n",
              "\n",
              "scope.google = scope.google || {};\n",
              "scope.google.colab = scope.google.colab || {};\n",
              "scope.google.colab._files = {\n",
              "  _uploadFiles,\n",
              "  _uploadFilesContinue,\n",
              "};\n",
              "})(self);\n",
              "</script> "
            ]
          },
          "metadata": {}
        },
        {
          "output_type": "stream",
          "name": "stdout",
          "text": [
            "Saving hypothyroid.csv to hypothyroid.csv\n"
          ]
        }
      ]
    },
    {
      "cell_type": "markdown",
      "id": "146209f4",
      "metadata": {
        "papermill": {
          "duration": 0.04035,
          "end_time": "2021-10-24T05:00:54.788125",
          "exception": false,
          "start_time": "2021-10-24T05:00:54.747775",
          "status": "completed"
        },
        "tags": [],
        "id": "146209f4"
      },
      "source": [
        "## **Read data from csv**"
      ]
    },
    {
      "cell_type": "code",
      "execution_count": 3,
      "id": "465aea07",
      "metadata": {
        "execution": {
          "iopub.execute_input": "2021-10-24T05:00:54.938415Z",
          "iopub.status.busy": "2021-10-24T05:00:54.937722Z",
          "iopub.status.idle": "2021-10-24T05:00:55.005853Z",
          "shell.execute_reply": "2021-10-24T05:00:55.006395Z",
          "shell.execute_reply.started": "2021-10-24T04:56:40.692144Z"
        },
        "papermill": {
          "duration": 0.17744,
          "end_time": "2021-10-24T05:00:55.006570",
          "exception": false,
          "start_time": "2021-10-24T05:00:54.829130",
          "status": "completed"
        },
        "tags": [],
        "colab": {
          "base_uri": "https://localhost:8080/",
          "height": 314
        },
        "id": "465aea07",
        "outputId": "1ae8f994-06eb-4ec4-a941-701cc368a401"
      },
      "outputs": [
        {
          "output_type": "execute_result",
          "data": {
            "text/plain": [
              "  age sex on thyroxine query on thyroxine on antithyroid medication sick  \\\n",
              "0  41   F            f                  f                         f    f   \n",
              "1  23   F            f                  f                         f    f   \n",
              "2  46   M            f                  f                         f    f   \n",
              "3  70   F            t                  f                         f    f   \n",
              "4  70   F            f                  f                         f    f   \n",
              "\n",
              "  pregnant thyroid surgery I131 treatment query hypothyroid  ... TT4 measured  \\\n",
              "0        f               f              f                 f  ...            t   \n",
              "1        f               f              f                 f  ...            t   \n",
              "2        f               f              f                 f  ...            t   \n",
              "3        f               f              f                 f  ...            t   \n",
              "4        f               f              f                 f  ...            t   \n",
              "\n",
              "   TT4 T4U measured   T4U FTI measured  FTI TBG measured TBG referral source  \\\n",
              "0  125            t  1.14            t  109            f   ?            SVHC   \n",
              "1  102            f     ?            f    ?            f   ?           other   \n",
              "2  109            t  0.91            t  120            f   ?           other   \n",
              "3  175            f     ?            f    ?            f   ?           other   \n",
              "4   61            t  0.87            t   70            f   ?             SVI   \n",
              "\n",
              "  binaryClass  \n",
              "0           P  \n",
              "1           P  \n",
              "2           P  \n",
              "3           P  \n",
              "4           P  \n",
              "\n",
              "[5 rows x 30 columns]"
            ],
            "text/html": [
              "\n",
              "  <div id=\"df-60c5fb88-2cfe-42d7-b524-02eb823c0f1d\">\n",
              "    <div class=\"colab-df-container\">\n",
              "      <div>\n",
              "<style scoped>\n",
              "    .dataframe tbody tr th:only-of-type {\n",
              "        vertical-align: middle;\n",
              "    }\n",
              "\n",
              "    .dataframe tbody tr th {\n",
              "        vertical-align: top;\n",
              "    }\n",
              "\n",
              "    .dataframe thead th {\n",
              "        text-align: right;\n",
              "    }\n",
              "</style>\n",
              "<table border=\"1\" class=\"dataframe\">\n",
              "  <thead>\n",
              "    <tr style=\"text-align: right;\">\n",
              "      <th></th>\n",
              "      <th>age</th>\n",
              "      <th>sex</th>\n",
              "      <th>on thyroxine</th>\n",
              "      <th>query on thyroxine</th>\n",
              "      <th>on antithyroid medication</th>\n",
              "      <th>sick</th>\n",
              "      <th>pregnant</th>\n",
              "      <th>thyroid surgery</th>\n",
              "      <th>I131 treatment</th>\n",
              "      <th>query hypothyroid</th>\n",
              "      <th>...</th>\n",
              "      <th>TT4 measured</th>\n",
              "      <th>TT4</th>\n",
              "      <th>T4U measured</th>\n",
              "      <th>T4U</th>\n",
              "      <th>FTI measured</th>\n",
              "      <th>FTI</th>\n",
              "      <th>TBG measured</th>\n",
              "      <th>TBG</th>\n",
              "      <th>referral source</th>\n",
              "      <th>binaryClass</th>\n",
              "    </tr>\n",
              "  </thead>\n",
              "  <tbody>\n",
              "    <tr>\n",
              "      <th>0</th>\n",
              "      <td>41</td>\n",
              "      <td>F</td>\n",
              "      <td>f</td>\n",
              "      <td>f</td>\n",
              "      <td>f</td>\n",
              "      <td>f</td>\n",
              "      <td>f</td>\n",
              "      <td>f</td>\n",
              "      <td>f</td>\n",
              "      <td>f</td>\n",
              "      <td>...</td>\n",
              "      <td>t</td>\n",
              "      <td>125</td>\n",
              "      <td>t</td>\n",
              "      <td>1.14</td>\n",
              "      <td>t</td>\n",
              "      <td>109</td>\n",
              "      <td>f</td>\n",
              "      <td>?</td>\n",
              "      <td>SVHC</td>\n",
              "      <td>P</td>\n",
              "    </tr>\n",
              "    <tr>\n",
              "      <th>1</th>\n",
              "      <td>23</td>\n",
              "      <td>F</td>\n",
              "      <td>f</td>\n",
              "      <td>f</td>\n",
              "      <td>f</td>\n",
              "      <td>f</td>\n",
              "      <td>f</td>\n",
              "      <td>f</td>\n",
              "      <td>f</td>\n",
              "      <td>f</td>\n",
              "      <td>...</td>\n",
              "      <td>t</td>\n",
              "      <td>102</td>\n",
              "      <td>f</td>\n",
              "      <td>?</td>\n",
              "      <td>f</td>\n",
              "      <td>?</td>\n",
              "      <td>f</td>\n",
              "      <td>?</td>\n",
              "      <td>other</td>\n",
              "      <td>P</td>\n",
              "    </tr>\n",
              "    <tr>\n",
              "      <th>2</th>\n",
              "      <td>46</td>\n",
              "      <td>M</td>\n",
              "      <td>f</td>\n",
              "      <td>f</td>\n",
              "      <td>f</td>\n",
              "      <td>f</td>\n",
              "      <td>f</td>\n",
              "      <td>f</td>\n",
              "      <td>f</td>\n",
              "      <td>f</td>\n",
              "      <td>...</td>\n",
              "      <td>t</td>\n",
              "      <td>109</td>\n",
              "      <td>t</td>\n",
              "      <td>0.91</td>\n",
              "      <td>t</td>\n",
              "      <td>120</td>\n",
              "      <td>f</td>\n",
              "      <td>?</td>\n",
              "      <td>other</td>\n",
              "      <td>P</td>\n",
              "    </tr>\n",
              "    <tr>\n",
              "      <th>3</th>\n",
              "      <td>70</td>\n",
              "      <td>F</td>\n",
              "      <td>t</td>\n",
              "      <td>f</td>\n",
              "      <td>f</td>\n",
              "      <td>f</td>\n",
              "      <td>f</td>\n",
              "      <td>f</td>\n",
              "      <td>f</td>\n",
              "      <td>f</td>\n",
              "      <td>...</td>\n",
              "      <td>t</td>\n",
              "      <td>175</td>\n",
              "      <td>f</td>\n",
              "      <td>?</td>\n",
              "      <td>f</td>\n",
              "      <td>?</td>\n",
              "      <td>f</td>\n",
              "      <td>?</td>\n",
              "      <td>other</td>\n",
              "      <td>P</td>\n",
              "    </tr>\n",
              "    <tr>\n",
              "      <th>4</th>\n",
              "      <td>70</td>\n",
              "      <td>F</td>\n",
              "      <td>f</td>\n",
              "      <td>f</td>\n",
              "      <td>f</td>\n",
              "      <td>f</td>\n",
              "      <td>f</td>\n",
              "      <td>f</td>\n",
              "      <td>f</td>\n",
              "      <td>f</td>\n",
              "      <td>...</td>\n",
              "      <td>t</td>\n",
              "      <td>61</td>\n",
              "      <td>t</td>\n",
              "      <td>0.87</td>\n",
              "      <td>t</td>\n",
              "      <td>70</td>\n",
              "      <td>f</td>\n",
              "      <td>?</td>\n",
              "      <td>SVI</td>\n",
              "      <td>P</td>\n",
              "    </tr>\n",
              "  </tbody>\n",
              "</table>\n",
              "<p>5 rows × 30 columns</p>\n",
              "</div>\n",
              "      <button class=\"colab-df-convert\" onclick=\"convertToInteractive('df-60c5fb88-2cfe-42d7-b524-02eb823c0f1d')\"\n",
              "              title=\"Convert this dataframe to an interactive table.\"\n",
              "              style=\"display:none;\">\n",
              "        \n",
              "  <svg xmlns=\"http://www.w3.org/2000/svg\" height=\"24px\"viewBox=\"0 0 24 24\"\n",
              "       width=\"24px\">\n",
              "    <path d=\"M0 0h24v24H0V0z\" fill=\"none\"/>\n",
              "    <path d=\"M18.56 5.44l.94 2.06.94-2.06 2.06-.94-2.06-.94-.94-2.06-.94 2.06-2.06.94zm-11 1L8.5 8.5l.94-2.06 2.06-.94-2.06-.94L8.5 2.5l-.94 2.06-2.06.94zm10 10l.94 2.06.94-2.06 2.06-.94-2.06-.94-.94-2.06-.94 2.06-2.06.94z\"/><path d=\"M17.41 7.96l-1.37-1.37c-.4-.4-.92-.59-1.43-.59-.52 0-1.04.2-1.43.59L10.3 9.45l-7.72 7.72c-.78.78-.78 2.05 0 2.83L4 21.41c.39.39.9.59 1.41.59.51 0 1.02-.2 1.41-.59l7.78-7.78 2.81-2.81c.8-.78.8-2.07 0-2.86zM5.41 20L4 18.59l7.72-7.72 1.47 1.35L5.41 20z\"/>\n",
              "  </svg>\n",
              "      </button>\n",
              "      \n",
              "  <style>\n",
              "    .colab-df-container {\n",
              "      display:flex;\n",
              "      flex-wrap:wrap;\n",
              "      gap: 12px;\n",
              "    }\n",
              "\n",
              "    .colab-df-convert {\n",
              "      background-color: #E8F0FE;\n",
              "      border: none;\n",
              "      border-radius: 50%;\n",
              "      cursor: pointer;\n",
              "      display: none;\n",
              "      fill: #1967D2;\n",
              "      height: 32px;\n",
              "      padding: 0 0 0 0;\n",
              "      width: 32px;\n",
              "    }\n",
              "\n",
              "    .colab-df-convert:hover {\n",
              "      background-color: #E2EBFA;\n",
              "      box-shadow: 0px 1px 2px rgba(60, 64, 67, 0.3), 0px 1px 3px 1px rgba(60, 64, 67, 0.15);\n",
              "      fill: #174EA6;\n",
              "    }\n",
              "\n",
              "    [theme=dark] .colab-df-convert {\n",
              "      background-color: #3B4455;\n",
              "      fill: #D2E3FC;\n",
              "    }\n",
              "\n",
              "    [theme=dark] .colab-df-convert:hover {\n",
              "      background-color: #434B5C;\n",
              "      box-shadow: 0px 1px 3px 1px rgba(0, 0, 0, 0.15);\n",
              "      filter: drop-shadow(0px 1px 2px rgba(0, 0, 0, 0.3));\n",
              "      fill: #FFFFFF;\n",
              "    }\n",
              "  </style>\n",
              "\n",
              "      <script>\n",
              "        const buttonEl =\n",
              "          document.querySelector('#df-60c5fb88-2cfe-42d7-b524-02eb823c0f1d button.colab-df-convert');\n",
              "        buttonEl.style.display =\n",
              "          google.colab.kernel.accessAllowed ? 'block' : 'none';\n",
              "\n",
              "        async function convertToInteractive(key) {\n",
              "          const element = document.querySelector('#df-60c5fb88-2cfe-42d7-b524-02eb823c0f1d');\n",
              "          const dataTable =\n",
              "            await google.colab.kernel.invokeFunction('convertToInteractive',\n",
              "                                                     [key], {});\n",
              "          if (!dataTable) return;\n",
              "\n",
              "          const docLinkHtml = 'Like what you see? Visit the ' +\n",
              "            '<a target=\"_blank\" href=https://colab.research.google.com/notebooks/data_table.ipynb>data table notebook</a>'\n",
              "            + ' to learn more about interactive tables.';\n",
              "          element.innerHTML = '';\n",
              "          dataTable['output_type'] = 'display_data';\n",
              "          await google.colab.output.renderOutput(dataTable, element);\n",
              "          const docLink = document.createElement('div');\n",
              "          docLink.innerHTML = docLinkHtml;\n",
              "          element.appendChild(docLink);\n",
              "        }\n",
              "      </script>\n",
              "    </div>\n",
              "  </div>\n",
              "  "
            ]
          },
          "metadata": {},
          "execution_count": 3
        }
      ],
      "source": [
        "thyroid_df = pd.read_csv('/content/hypothyroid.csv')\n",
        "thyroid_df.head()"
      ]
    },
    {
      "cell_type": "markdown",
      "id": "e79457b7",
      "metadata": {
        "papermill": {
          "duration": 0.041183,
          "end_time": "2021-10-24T05:00:55.090099",
          "exception": false,
          "start_time": "2021-10-24T05:00:55.048916",
          "status": "completed"
        },
        "tags": [],
        "id": "e79457b7"
      },
      "source": [
        "## **Data Cleaning**"
      ]
    },
    {
      "cell_type": "code",
      "execution_count": 4,
      "id": "0bf7e8fd",
      "metadata": {
        "execution": {
          "iopub.execute_input": "2021-10-24T05:00:55.177265Z",
          "iopub.status.busy": "2021-10-24T05:00:55.176522Z",
          "iopub.status.idle": "2021-10-24T05:00:55.185023Z",
          "shell.execute_reply": "2021-10-24T05:00:55.184459Z",
          "shell.execute_reply.started": "2021-10-24T04:56:40.743358Z"
        },
        "papermill": {
          "duration": 0.053963,
          "end_time": "2021-10-24T05:00:55.185175",
          "exception": false,
          "start_time": "2021-10-24T05:00:55.131212",
          "status": "completed"
        },
        "tags": [],
        "id": "0bf7e8fd"
      },
      "outputs": [],
      "source": [
        "thyroid_df.rename(columns={'binaryClass':'Label'},inplace=True)"
      ]
    },
    {
      "cell_type": "code",
      "execution_count": 5,
      "id": "8be8f616",
      "metadata": {
        "execution": {
          "iopub.execute_input": "2021-10-24T05:00:55.280464Z",
          "iopub.status.busy": "2021-10-24T05:00:55.279464Z",
          "iopub.status.idle": "2021-10-24T05:00:55.286298Z",
          "shell.execute_reply": "2021-10-24T05:00:55.285722Z",
          "shell.execute_reply.started": "2021-10-24T04:56:40.753007Z"
        },
        "papermill": {
          "duration": 0.059758,
          "end_time": "2021-10-24T05:00:55.286456",
          "exception": false,
          "start_time": "2021-10-24T05:00:55.226698",
          "status": "completed"
        },
        "tags": [],
        "id": "8be8f616"
      },
      "outputs": [],
      "source": [
        "thyroid_df.replace('?',np.nan,inplace=True)"
      ]
    },
    {
      "cell_type": "code",
      "execution_count": 6,
      "id": "30a6ec0a",
      "metadata": {
        "execution": {
          "iopub.execute_input": "2021-10-24T05:00:55.377346Z",
          "iopub.status.busy": "2021-10-24T05:00:55.376663Z",
          "iopub.status.idle": "2021-10-24T05:00:55.385178Z",
          "shell.execute_reply": "2021-10-24T05:00:55.385708Z",
          "shell.execute_reply.started": "2021-10-24T04:56:40.776145Z"
        },
        "papermill": {
          "duration": 0.057756,
          "end_time": "2021-10-24T05:00:55.385884",
          "exception": false,
          "start_time": "2021-10-24T05:00:55.328128",
          "status": "completed"
        },
        "tags": [],
        "id": "30a6ec0a"
      },
      "outputs": [],
      "source": [
        "thyroid_df.drop(['T3 measured','TSH measured','TT4 measured','T4U measured','FTI measured','TBG measured','TBG','referral source','on thyroxine','query on thyroxine','on antithyroid medication','query hypothyroid', 'query hyperthyroid','hypopituitary', 'psych'],axis=1,inplace=True)"
      ]
    },
    {
      "cell_type": "code",
      "execution_count": 7,
      "id": "1b6f025f",
      "metadata": {
        "execution": {
          "iopub.execute_input": "2021-10-24T05:00:55.480913Z",
          "iopub.status.busy": "2021-10-24T05:00:55.480194Z",
          "iopub.status.idle": "2021-10-24T05:00:55.496757Z",
          "shell.execute_reply": "2021-10-24T05:00:55.496216Z",
          "shell.execute_reply.started": "2021-10-24T04:56:40.791778Z"
        },
        "papermill": {
          "duration": 0.069539,
          "end_time": "2021-10-24T05:00:55.496905",
          "exception": false,
          "start_time": "2021-10-24T05:00:55.427366",
          "status": "completed"
        },
        "tags": [],
        "colab": {
          "base_uri": "https://localhost:8080/"
        },
        "id": "1b6f025f",
        "outputId": "852a8051-2978-4d5f-ca25-87ca0de2c17b"
      },
      "outputs": [
        {
          "output_type": "stream",
          "name": "stdout",
          "text": [
            "<class 'pandas.core.frame.DataFrame'>\n",
            "RangeIndex: 3772 entries, 0 to 3771\n",
            "Data columns (total 15 columns):\n",
            " #   Column           Non-Null Count  Dtype \n",
            "---  ------           --------------  ----- \n",
            " 0   age              3771 non-null   object\n",
            " 1   sex              3622 non-null   object\n",
            " 2   sick             3772 non-null   object\n",
            " 3   pregnant         3772 non-null   object\n",
            " 4   thyroid surgery  3772 non-null   object\n",
            " 5   I131 treatment   3772 non-null   object\n",
            " 6   lithium          3772 non-null   object\n",
            " 7   goitre           3772 non-null   object\n",
            " 8   tumor            3772 non-null   object\n",
            " 9   TSH              3403 non-null   object\n",
            " 10  T3               3003 non-null   object\n",
            " 11  TT4              3541 non-null   object\n",
            " 12  T4U              3385 non-null   object\n",
            " 13  FTI              3387 non-null   object\n",
            " 14  Label            3772 non-null   object\n",
            "dtypes: object(15)\n",
            "memory usage: 442.2+ KB\n"
          ]
        }
      ],
      "source": [
        "thyroid_df.info()"
      ]
    },
    {
      "cell_type": "code",
      "execution_count": 8,
      "id": "9960842c",
      "metadata": {
        "execution": {
          "iopub.execute_input": "2021-10-24T05:00:55.588613Z",
          "iopub.status.busy": "2021-10-24T05:00:55.587871Z",
          "iopub.status.idle": "2021-10-24T05:00:55.591511Z",
          "shell.execute_reply": "2021-10-24T05:00:55.591982Z",
          "shell.execute_reply.started": "2021-10-24T04:56:40.820941Z"
        },
        "papermill": {
          "duration": 0.053075,
          "end_time": "2021-10-24T05:00:55.592156",
          "exception": false,
          "start_time": "2021-10-24T05:00:55.539081",
          "status": "completed"
        },
        "tags": [],
        "colab": {
          "base_uri": "https://localhost:8080/"
        },
        "id": "9960842c",
        "outputId": "9fe97d70-658c-4c93-b921-8c0949a15a7a"
      },
      "outputs": [
        {
          "output_type": "execute_result",
          "data": {
            "text/plain": [
              "f    3719\n",
              "t      53\n",
              "Name: thyroid surgery, dtype: int64"
            ]
          },
          "metadata": {},
          "execution_count": 8
        }
      ],
      "source": [
        "thyroid_df['thyroid surgery'].value_counts()"
      ]
    },
    {
      "cell_type": "code",
      "execution_count": 9,
      "id": "5aa568d1",
      "metadata": {
        "execution": {
          "iopub.execute_input": "2021-10-24T05:00:55.685636Z",
          "iopub.status.busy": "2021-10-24T05:00:55.684910Z",
          "iopub.status.idle": "2021-10-24T05:00:55.705412Z",
          "shell.execute_reply": "2021-10-24T05:00:55.704704Z",
          "shell.execute_reply.started": "2021-10-24T04:56:40.831130Z"
        },
        "papermill": {
          "duration": 0.071448,
          "end_time": "2021-10-24T05:00:55.705553",
          "exception": false,
          "start_time": "2021-10-24T05:00:55.634105",
          "status": "completed"
        },
        "tags": [],
        "id": "5aa568d1"
      },
      "outputs": [],
      "source": [
        "cols = ['age','FTI','TSH','T3','TT4','T4U']\n",
        "for i in cols:\n",
        "    thyroid_df[i] = pd.to_numeric(thyroid_df[i])"
      ]
    },
    {
      "cell_type": "code",
      "execution_count": 10,
      "id": "936c0030",
      "metadata": {
        "execution": {
          "iopub.execute_input": "2021-10-24T05:00:55.807863Z",
          "iopub.status.busy": "2021-10-24T05:00:55.798571Z",
          "iopub.status.idle": "2021-10-24T05:00:55.811758Z",
          "shell.execute_reply": "2021-10-24T05:00:55.810772Z",
          "shell.execute_reply.started": "2021-10-24T04:56:40.861378Z"
        },
        "papermill": {
          "duration": 0.064031,
          "end_time": "2021-10-24T05:00:55.811980",
          "exception": false,
          "start_time": "2021-10-24T05:00:55.747949",
          "status": "completed"
        },
        "tags": [],
        "colab": {
          "base_uri": "https://localhost:8080/"
        },
        "id": "936c0030",
        "outputId": "d888e753-7c57-41de-cc59-b1d51f76ce60"
      },
      "outputs": [
        {
          "output_type": "stream",
          "name": "stdout",
          "text": [
            "<class 'pandas.core.frame.DataFrame'>\n",
            "RangeIndex: 3772 entries, 0 to 3771\n",
            "Data columns (total 15 columns):\n",
            " #   Column           Non-Null Count  Dtype  \n",
            "---  ------           --------------  -----  \n",
            " 0   age              3771 non-null   float64\n",
            " 1   sex              3622 non-null   object \n",
            " 2   sick             3772 non-null   object \n",
            " 3   pregnant         3772 non-null   object \n",
            " 4   thyroid surgery  3772 non-null   object \n",
            " 5   I131 treatment   3772 non-null   object \n",
            " 6   lithium          3772 non-null   object \n",
            " 7   goitre           3772 non-null   object \n",
            " 8   tumor            3772 non-null   object \n",
            " 9   TSH              3403 non-null   float64\n",
            " 10  T3               3003 non-null   float64\n",
            " 11  TT4              3541 non-null   float64\n",
            " 12  T4U              3385 non-null   float64\n",
            " 13  FTI              3387 non-null   float64\n",
            " 14  Label            3772 non-null   object \n",
            "dtypes: float64(6), object(9)\n",
            "memory usage: 442.2+ KB\n"
          ]
        }
      ],
      "source": [
        "thyroid_df.info()"
      ]
    },
    {
      "cell_type": "markdown",
      "id": "7b93cb94",
      "metadata": {
        "papermill": {
          "duration": 0.04204,
          "end_time": "2021-10-24T05:00:55.897391",
          "exception": false,
          "start_time": "2021-10-24T05:00:55.855351",
          "status": "completed"
        },
        "tags": [],
        "id": "7b93cb94"
      },
      "source": [
        "## **Handle Missing Values**"
      ]
    },
    {
      "cell_type": "code",
      "execution_count": 11,
      "id": "64a37a8c",
      "metadata": {
        "execution": {
          "iopub.execute_input": "2021-10-24T05:00:55.994852Z",
          "iopub.status.busy": "2021-10-24T05:00:55.994202Z",
          "iopub.status.idle": "2021-10-24T05:00:55.998501Z",
          "shell.execute_reply": "2021-10-24T05:00:55.997835Z",
          "shell.execute_reply.started": "2021-10-24T04:56:40.883484Z"
        },
        "papermill": {
          "duration": 0.058723,
          "end_time": "2021-10-24T05:00:55.998638",
          "exception": false,
          "start_time": "2021-10-24T05:00:55.939915",
          "status": "completed"
        },
        "tags": [],
        "colab": {
          "base_uri": "https://localhost:8080/"
        },
        "id": "64a37a8c",
        "outputId": "795be980-018f-4c16-bf62-a68c1ea1cf0e"
      },
      "outputs": [
        {
          "output_type": "execute_result",
          "data": {
            "text/plain": [
              "age                  1\n",
              "sex                150\n",
              "sick                 0\n",
              "pregnant             0\n",
              "thyroid surgery      0\n",
              "I131 treatment       0\n",
              "lithium              0\n",
              "goitre               0\n",
              "tumor                0\n",
              "TSH                369\n",
              "T3                 769\n",
              "TT4                231\n",
              "T4U                387\n",
              "FTI                385\n",
              "Label                0\n",
              "dtype: int64"
            ]
          },
          "metadata": {},
          "execution_count": 11
        }
      ],
      "source": [
        "thyroid_df.isnull().sum()"
      ]
    },
    {
      "cell_type": "code",
      "execution_count": 12,
      "id": "ec1ef956",
      "metadata": {
        "execution": {
          "iopub.execute_input": "2021-10-24T05:00:56.091232Z",
          "iopub.status.busy": "2021-10-24T05:00:56.090523Z",
          "iopub.status.idle": "2021-10-24T05:00:56.093390Z",
          "shell.execute_reply": "2021-10-24T05:00:56.092858Z",
          "shell.execute_reply.started": "2021-10-24T04:56:40.901687Z"
        },
        "papermill": {
          "duration": 0.052189,
          "end_time": "2021-10-24T05:00:56.093535",
          "exception": false,
          "start_time": "2021-10-24T05:00:56.041346",
          "status": "completed"
        },
        "tags": [],
        "id": "ec1ef956"
      },
      "outputs": [],
      "source": [
        "miss_cols = ['FTI','TSH','T3','TT4','T4U']\n",
        "for i in miss_cols:\n",
        "    thyroid_df[i] = thyroid_df[i].fillna(thyroid_df[i].mean())"
      ]
    },
    {
      "cell_type": "code",
      "execution_count": 13,
      "id": "e54531f1",
      "metadata": {
        "execution": {
          "iopub.execute_input": "2021-10-24T05:00:56.191074Z",
          "iopub.status.busy": "2021-10-24T05:00:56.190271Z",
          "iopub.status.idle": "2021-10-24T05:00:56.196676Z",
          "shell.execute_reply": "2021-10-24T05:00:56.195985Z",
          "shell.execute_reply.started": "2021-10-24T04:56:40.911428Z"
        },
        "papermill": {
          "duration": 0.060005,
          "end_time": "2021-10-24T05:00:56.196817",
          "exception": false,
          "start_time": "2021-10-24T05:00:56.136812",
          "status": "completed"
        },
        "tags": [],
        "id": "e54531f1"
      },
      "outputs": [],
      "source": [
        "thyroid_df.dropna(inplace=True)"
      ]
    },
    {
      "cell_type": "code",
      "execution_count": 14,
      "id": "b7c6dd92",
      "metadata": {
        "execution": {
          "iopub.execute_input": "2021-10-24T05:00:56.291952Z",
          "iopub.status.busy": "2021-10-24T05:00:56.291263Z",
          "iopub.status.idle": "2021-10-24T05:00:56.296942Z",
          "shell.execute_reply": "2021-10-24T05:00:56.297443Z",
          "shell.execute_reply.started": "2021-10-24T04:56:40.930863Z"
        },
        "papermill": {
          "duration": 0.057949,
          "end_time": "2021-10-24T05:00:56.297621",
          "exception": false,
          "start_time": "2021-10-24T05:00:56.239672",
          "status": "completed"
        },
        "tags": [],
        "colab": {
          "base_uri": "https://localhost:8080/"
        },
        "id": "b7c6dd92",
        "outputId": "d99c352d-01b9-4e39-cf61-068bb7264619"
      },
      "outputs": [
        {
          "output_type": "execute_result",
          "data": {
            "text/plain": [
              "age                0\n",
              "sex                0\n",
              "sick               0\n",
              "pregnant           0\n",
              "thyroid surgery    0\n",
              "I131 treatment     0\n",
              "lithium            0\n",
              "goitre             0\n",
              "tumor              0\n",
              "TSH                0\n",
              "T3                 0\n",
              "TT4                0\n",
              "T4U                0\n",
              "FTI                0\n",
              "Label              0\n",
              "dtype: int64"
            ]
          },
          "metadata": {},
          "execution_count": 14
        }
      ],
      "source": [
        "thyroid_df.isnull().sum()"
      ]
    },
    {
      "cell_type": "code",
      "execution_count": 15,
      "id": "4beee4b0",
      "metadata": {
        "execution": {
          "iopub.execute_input": "2021-10-24T05:00:56.388640Z",
          "iopub.status.busy": "2021-10-24T05:00:56.387387Z",
          "iopub.status.idle": "2021-10-24T05:00:56.393042Z",
          "shell.execute_reply": "2021-10-24T05:00:56.392468Z",
          "shell.execute_reply.started": "2021-10-24T04:56:40.949528Z"
        },
        "papermill": {
          "duration": 0.052536,
          "end_time": "2021-10-24T05:00:56.393187",
          "exception": false,
          "start_time": "2021-10-24T05:00:56.340651",
          "status": "completed"
        },
        "tags": [],
        "id": "4beee4b0"
      },
      "outputs": [],
      "source": [
        "thyroid_df = thyroid_df.drop(1364)"
      ]
    },
    {
      "cell_type": "code",
      "execution_count": null,
      "id": "4b491e27",
      "metadata": {
        "execution": {
          "iopub.execute_input": "2021-10-24T05:00:56.487356Z",
          "iopub.status.busy": "2021-10-24T05:00:56.485468Z",
          "iopub.status.idle": "2021-10-24T05:00:56.490673Z",
          "shell.execute_reply": "2021-10-24T05:00:56.491283Z",
          "shell.execute_reply.started": "2021-10-24T04:56:40.958632Z"
        },
        "papermill": {
          "duration": 0.054389,
          "end_time": "2021-10-24T05:00:56.491478",
          "exception": false,
          "start_time": "2021-10-24T05:00:56.437089",
          "status": "completed"
        },
        "tags": [],
        "id": "4b491e27"
      },
      "outputs": [],
      "source": [
        "thyroid_df.TT4 = thyroid_df.TT4.astype(int)\n",
        "thyroid_df.FTI = thyroid_df.FTI.astype(int)\n",
        "thyroid_df.age = thyroid_df.age.astype(int)"
      ]
    },
    {
      "cell_type": "markdown",
      "id": "adbd5f91",
      "metadata": {
        "papermill": {
          "duration": 0.042895,
          "end_time": "2021-10-24T05:00:56.578293",
          "exception": false,
          "start_time": "2021-10-24T05:00:56.535398",
          "status": "completed"
        },
        "tags": [],
        "id": "adbd5f91"
      },
      "source": [
        "## **Exploratory Data Analysis**"
      ]
    },
    {
      "cell_type": "code",
      "execution_count": 16,
      "id": "8194391c",
      "metadata": {
        "execution": {
          "iopub.execute_input": "2021-10-24T05:00:56.669109Z",
          "iopub.status.busy": "2021-10-24T05:00:56.668085Z",
          "iopub.status.idle": "2021-10-24T05:00:56.906315Z",
          "shell.execute_reply": "2021-10-24T05:00:56.905658Z",
          "shell.execute_reply.started": "2021-10-24T04:56:40.969788Z"
        },
        "papermill": {
          "duration": 0.284283,
          "end_time": "2021-10-24T05:00:56.906458",
          "exception": false,
          "start_time": "2021-10-24T05:00:56.622175",
          "status": "completed"
        },
        "tags": [],
        "colab": {
          "base_uri": "https://localhost:8080/",
          "height": 472
        },
        "id": "8194391c",
        "outputId": "b72b9d58-808f-4afe-ffb5-c8af9406ab96"
      },
      "outputs": [
        {
          "output_type": "display_data",
          "data": {
            "text/plain": [
              "<Figure size 640x480 with 1 Axes>"
            ],
            "image/png": "[encoded data removed]"
          },
          "metadata": {}
        }
      ],
      "source": [
        "sns.countplot(x='Label',data=thyroid_df)\n",
        "plt.title(\"Countplot for Target variable\");"
      ]
    },
    {
      "cell_type": "code",
      "execution_count": 17,
      "id": "7a7fe337",
      "metadata": {
        "execution": {
          "iopub.execute_input": "2021-10-24T05:00:57.003124Z",
          "iopub.status.busy": "2021-10-24T05:00:57.002332Z",
          "iopub.status.idle": "2021-10-24T05:00:57.005589Z",
          "shell.execute_reply": "2021-10-24T05:00:57.005039Z",
          "shell.execute_reply.started": "2021-10-24T04:56:41.217613Z"
        },
        "papermill": {
          "duration": 0.054917,
          "end_time": "2021-10-24T05:00:57.005736",
          "exception": false,
          "start_time": "2021-10-24T05:00:56.950819",
          "status": "completed"
        },
        "tags": [],
        "id": "7a7fe337"
      },
      "outputs": [],
      "source": [
        "positive_df = thyroid_df[thyroid_df.Label=='P']"
      ]
    },
    {
      "cell_type": "code",
      "execution_count": 18,
      "id": "db63f188",
      "metadata": {
        "execution": {
          "iopub.execute_input": "2021-10-24T05:00:57.106488Z",
          "iopub.status.busy": "2021-10-24T05:00:57.103186Z",
          "iopub.status.idle": "2021-10-24T05:00:57.396884Z",
          "shell.execute_reply": "2021-10-24T05:00:57.396326Z",
          "shell.execute_reply.started": "2021-10-24T04:56:41.228077Z"
        },
        "papermill": {
          "duration": 0.345461,
          "end_time": "2021-10-24T05:00:57.397062",
          "exception": false,
          "start_time": "2021-10-24T05:00:57.051601",
          "status": "completed"
        },
        "tags": [],
        "colab": {
          "base_uri": "https://localhost:8080/",
          "height": 572
        },
        "id": "db63f188",
        "outputId": "4957a1fb-9465-40f8-f0f8-d4ce3e14d1f5"
      },
      "outputs": [
        {
          "output_type": "display_data",
          "data": {
            "text/plain": [
              "<Figure size 900x600 with 1 Axes>"
            ],
            "image/png": "[encoded data removed]"
          },
          "metadata": {}
        }
      ],
      "source": [
        "plt.figure(figsize=(9,6))\n",
        "sns.histplot(x='age',data=positive_df,color='blue')\n",
        "plt.title(\"Distribution of Positive Class Based on Age\",{'fontsize':20});"
      ]
    },
    {
      "cell_type": "code",
      "execution_count": 19,
      "id": "ca97961a",
      "metadata": {
        "execution": {
          "iopub.execute_input": "2021-10-24T05:00:57.496926Z",
          "iopub.status.busy": "2021-10-24T05:00:57.495896Z",
          "iopub.status.idle": "2021-10-24T05:00:57.676955Z",
          "shell.execute_reply": "2021-10-24T05:00:57.676408Z",
          "shell.execute_reply.started": "2021-10-24T04:56:41.532476Z"
        },
        "papermill": {
          "duration": 0.23477,
          "end_time": "2021-10-24T05:00:57.677138",
          "exception": false,
          "start_time": "2021-10-24T05:00:57.442368",
          "status": "completed"
        },
        "tags": [],
        "colab": {
          "base_uri": "https://localhost:8080/",
          "height": 653
        },
        "id": "ca97961a",
        "outputId": "ae912a7a-e047-4b76-b3ae-926fe3c270a6"
      },
      "outputs": [
        {
          "output_type": "display_data",
          "data": {
            "text/plain": [
              "<Figure size 1000x800 with 1 Axes>"
            ],
            "image/png": "[encoded data removed]"
          },
          "metadata": {}
        }
      ],
      "source": [
        "plt.figure(figsize=(10,8))\n",
        "plt.pie(x=positive_df.sex.value_counts(),\n",
        "        labels=['Female','Male'],\n",
        "        startangle = 90,\n",
        "        colors=['springgreen','orange'],\n",
        "        autopct='%.2f'\n",
        "       );\n",
        "plt.legend();"
      ]
    },
    {
      "cell_type": "markdown",
      "id": "67d035da",
      "metadata": {
        "papermill": {
          "duration": 0.045706,
          "end_time": "2021-10-24T05:00:57.769621",
          "exception": false,
          "start_time": "2021-10-24T05:00:57.723915",
          "status": "completed"
        },
        "tags": [],
        "id": "67d035da"
      },
      "source": [
        "## **Inference :**\n",
        "### Female patients who has disease is greater than male patients."
      ]
    },
    {
      "cell_type": "code",
      "execution_count": 20,
      "id": "9061eb58",
      "metadata": {
        "execution": {
          "iopub.execute_input": "2021-10-24T05:00:57.869027Z",
          "iopub.status.busy": "2021-10-24T05:00:57.868035Z",
          "iopub.status.idle": "2021-10-24T05:00:58.073879Z",
          "shell.execute_reply": "2021-10-24T05:00:58.074397Z",
          "shell.execute_reply.started": "2021-10-24T04:56:41.723604Z"
        },
        "papermill": {
          "duration": 0.258241,
          "end_time": "2021-10-24T05:00:58.074583",
          "exception": false,
          "start_time": "2021-10-24T05:00:57.816342",
          "status": "completed"
        },
        "tags": [],
        "colab": {
          "base_uri": "https://localhost:8080/",
          "height": 653
        },
        "id": "9061eb58",
        "outputId": "93d8b37f-df3c-4d8f-c73a-15301889c74c"
      },
      "outputs": [
        {
          "output_type": "display_data",
          "data": {
            "text/plain": [
              "<Figure size 800x800 with 1 Axes>"
            ],
            "image/png": "[encoded data removed]"
          },
          "metadata": {}
        }
      ],
      "source": [
        "plt.figure(figsize=(8,8))\n",
        "plt.pie(x=positive_df.sick.value_counts(),\n",
        "        labels=['Sick','Well'],\n",
        "        startangle = 20,\n",
        "        colors=['deepskyblue','red'],\n",
        "        autopct='%.2f',\n",
        "        explode=[0,0.2]\n",
        "       );\n",
        "plt.legend();"
      ]
    },
    {
      "cell_type": "code",
      "execution_count": 21,
      "id": "feae1acd",
      "metadata": {
        "execution": {
          "iopub.execute_input": "2021-10-24T05:00:58.174839Z",
          "iopub.status.busy": "2021-10-24T05:00:58.173903Z",
          "iopub.status.idle": "2021-10-24T05:00:58.177050Z",
          "shell.execute_reply": "2021-10-24T05:00:58.177653Z",
          "shell.execute_reply.started": "2021-10-24T04:56:41.932249Z"
        },
        "papermill": {
          "duration": 0.056109,
          "end_time": "2021-10-24T05:00:58.177821",
          "exception": false,
          "start_time": "2021-10-24T05:00:58.121712",
          "status": "completed"
        },
        "tags": [],
        "id": "feae1acd"
      },
      "outputs": [],
      "source": [
        "X = thyroid_df.drop('Label',axis=1)\n",
        "y = thyroid_df.Label"
      ]
    },
    {
      "cell_type": "markdown",
      "id": "bee9ce8c",
      "metadata": {
        "papermill": {
          "duration": 0.04616,
          "end_time": "2021-10-24T05:00:58.270625",
          "exception": false,
          "start_time": "2021-10-24T05:00:58.224465",
          "status": "completed"
        },
        "tags": [],
        "id": "bee9ce8c"
      },
      "source": [
        "## **Transform non-numerical labels to numerical labels.**"
      ]
    },
    {
      "cell_type": "code",
      "execution_count": 22,
      "id": "d807322a",
      "metadata": {
        "execution": {
          "iopub.execute_input": "2021-10-24T05:00:58.368290Z",
          "iopub.status.busy": "2021-10-24T05:00:58.367294Z",
          "iopub.status.idle": "2021-10-24T05:00:58.372043Z",
          "shell.execute_reply": "2021-10-24T05:00:58.372598Z",
          "shell.execute_reply.started": "2021-10-24T04:56:41.939280Z"
        },
        "papermill": {
          "duration": 0.055433,
          "end_time": "2021-10-24T05:00:58.372771",
          "exception": false,
          "start_time": "2021-10-24T05:00:58.317338",
          "status": "completed"
        },
        "tags": [],
        "id": "d807322a"
      },
      "outputs": [],
      "source": [
        "s_encoder = LabelEncoder()\n",
        "si_encoder = LabelEncoder()\n",
        "preg_encoder = LabelEncoder()\n",
        "th_encoder = LabelEncoder()\n",
        "treat_encoder = LabelEncoder()\n",
        "lith_encoder = LabelEncoder()\n",
        "g_encoder= LabelEncoder()\n",
        "tu_encoder = LabelEncoder()"
      ]
    },
    {
      "cell_type": "code",
      "execution_count": 23,
      "id": "a4236646",
      "metadata": {
        "execution": {
          "iopub.execute_input": "2021-10-24T05:00:58.469854Z",
          "iopub.status.busy": "2021-10-24T05:00:58.468858Z",
          "iopub.status.idle": "2021-10-24T05:00:58.488483Z",
          "shell.execute_reply": "2021-10-24T05:00:58.489041Z",
          "shell.execute_reply.started": "2021-10-24T04:56:41.953162Z"
        },
        "papermill": {
          "duration": 0.069923,
          "end_time": "2021-10-24T05:00:58.489221",
          "exception": false,
          "start_time": "2021-10-24T05:00:58.419298",
          "status": "completed"
        },
        "tags": [],
        "id": "a4236646"
      },
      "outputs": [],
      "source": [
        "X['sex'] = s_encoder.fit_transform(X.sex)\n",
        "X['I131 treatment'] = treat_encoder.fit_transform(X['I131 treatment'])\n",
        "X['sick'] = si_encoder.fit_transform(X.sick)\n",
        "X['pregnant'] = preg_encoder.fit_transform(X.pregnant)\n",
        "X['thyroid surgery'] = th_encoder.fit_transform(X['thyroid surgery'])\n",
        "X['lithium'] = lith_encoder.fit_transform(X['lithium'])\n",
        "X['goitre'] = g_encoder.fit_transform(X['goitre'])\n",
        "X['tumor'] = tu_encoder.fit_transform(X['tumor'])"
      ]
    },
    {
      "cell_type": "code",
      "execution_count": 24,
      "id": "2d4cb4e5",
      "metadata": {
        "execution": {
          "iopub.execute_input": "2021-10-24T05:00:58.685788Z",
          "iopub.status.busy": "2021-10-24T05:00:58.685074Z",
          "iopub.status.idle": "2021-10-24T05:00:58.688746Z",
          "shell.execute_reply": "2021-10-24T05:00:58.689345Z",
          "shell.execute_reply.started": "2021-10-24T04:56:41.988699Z"
        },
        "papermill": {
          "duration": 0.053792,
          "end_time": "2021-10-24T05:00:58.689514",
          "exception": false,
          "start_time": "2021-10-24T05:00:58.635722",
          "status": "completed"
        },
        "tags": [],
        "id": "2d4cb4e5"
      },
      "outputs": [],
      "source": [
        "def func(df):\n",
        "    if df == 'P':\n",
        "        return 1\n",
        "    else:\n",
        "        return 0"
      ]
    },
    {
      "cell_type": "code",
      "execution_count": 25,
      "id": "08132506",
      "metadata": {
        "execution": {
          "iopub.execute_input": "2021-10-24T05:00:58.787578Z",
          "iopub.status.busy": "2021-10-24T05:00:58.786834Z",
          "iopub.status.idle": "2021-10-24T05:00:58.792896Z",
          "shell.execute_reply": "2021-10-24T05:00:58.793455Z",
          "shell.execute_reply.started": "2021-10-24T04:56:42.005983Z"
        },
        "papermill": {
          "duration": 0.057163,
          "end_time": "2021-10-24T05:00:58.793649",
          "exception": false,
          "start_time": "2021-10-24T05:00:58.736486",
          "status": "completed"
        },
        "tags": [],
        "id": "08132506"
      },
      "outputs": [],
      "source": [
        "y = y.apply(func)"
      ]
    },
    {
      "cell_type": "code",
      "execution_count": 26,
      "id": "66b7d992",
      "metadata": {
        "execution": {
          "iopub.execute_input": "2021-10-24T05:00:58.984946Z",
          "iopub.status.busy": "2021-10-24T05:00:58.984263Z",
          "iopub.status.idle": "2021-10-24T05:00:58.992050Z",
          "shell.execute_reply": "2021-10-24T05:00:58.992633Z",
          "shell.execute_reply.started": "2021-10-24T04:56:42.018523Z"
        },
        "papermill": {
          "duration": 0.059093,
          "end_time": "2021-10-24T05:00:58.992801",
          "exception": false,
          "start_time": "2021-10-24T05:00:58.933708",
          "status": "completed"
        },
        "tags": [],
        "id": "66b7d992"
      },
      "outputs": [],
      "source": [
        "X_train,X_test,y_train,y_test = train_test_split(X,y,test_size=0.2,random_state=11)"
      ]
    },
    {
      "cell_type": "markdown",
      "id": "460fb4ae",
      "metadata": {
        "papermill": {
          "duration": 0.046752,
          "end_time": "2021-10-24T05:00:59.086367",
          "exception": false,
          "start_time": "2021-10-24T05:00:59.039615",
          "status": "completed"
        },
        "tags": [],
        "id": "460fb4ae"
      },
      "source": [
        "## **Handle Imbalance Data**"
      ]
    },
    {
      "cell_type": "code",
      "execution_count": 27,
      "id": "d3c65b7a",
      "metadata": {
        "execution": {
          "iopub.execute_input": "2021-10-24T05:00:59.187517Z",
          "iopub.status.busy": "2021-10-24T05:00:59.186681Z",
          "iopub.status.idle": "2021-10-24T05:00:59.201674Z",
          "shell.execute_reply": "2021-10-24T05:00:59.202298Z",
          "shell.execute_reply.started": "2021-10-24T04:56:42.034538Z"
        },
        "papermill": {
          "duration": 0.069217,
          "end_time": "2021-10-24T05:00:59.202483",
          "exception": false,
          "start_time": "2021-10-24T05:00:59.133266",
          "status": "completed"
        },
        "tags": [],
        "id": "d3c65b7a"
      },
      "outputs": [],
      "source": [
        "smote = SMOTE(random_state=11)\n",
        "\n",
        "x_smote, y_smote = smote.fit_resample(X_train, y_train)"
      ]
    },
    {
      "cell_type": "code",
      "execution_count": 28,
      "id": "de42b15f",
      "metadata": {
        "execution": {
          "iopub.execute_input": "2021-10-24T05:00:59.300172Z",
          "iopub.status.busy": "2021-10-24T05:00:59.299439Z",
          "iopub.status.idle": "2021-10-24T05:00:59.305704Z",
          "shell.execute_reply": "2021-10-24T05:00:59.305079Z",
          "shell.execute_reply.started": "2021-10-24T04:56:42.057371Z"
        },
        "papermill": {
          "duration": 0.056429,
          "end_time": "2021-10-24T05:00:59.305860",
          "exception": false,
          "start_time": "2021-10-24T05:00:59.249431",
          "status": "completed"
        },
        "tags": [],
        "colab": {
          "base_uri": "https://localhost:8080/"
        },
        "id": "de42b15f",
        "outputId": "ba2ac7dc-d4ca-4be4-c0a9-9778e3baf563"
      },
      "outputs": [
        {
          "output_type": "stream",
          "name": "stdout",
          "text": [
            "Shape before the Oversampling :  (2896, 14)\n",
            "Shape after the Oversampling :  (5340, 14)\n"
          ]
        }
      ],
      "source": [
        "print(\"Shape before the Oversampling : \",X_train.shape)\n",
        "print(\"Shape after the Oversampling : \",x_smote.shape)\n"
      ]
    },
    {
      "cell_type": "markdown",
      "id": "7769693c",
      "metadata": {
        "papermill": {
          "duration": 0.047196,
          "end_time": "2021-10-24T05:00:59.400803",
          "exception": false,
          "start_time": "2021-10-24T05:00:59.353607",
          "status": "completed"
        },
        "tags": [],
        "id": "7769693c"
      },
      "source": [
        "## **Scaling**"
      ]
    },
    {
      "cell_type": "code",
      "execution_count": 29,
      "id": "f187590d",
      "metadata": {
        "execution": {
          "iopub.execute_input": "2021-10-24T05:00:59.503127Z",
          "iopub.status.busy": "2021-10-24T05:00:59.502415Z",
          "iopub.status.idle": "2021-10-24T05:00:59.515941Z",
          "shell.execute_reply": "2021-10-24T05:00:59.516532Z",
          "shell.execute_reply.started": "2021-10-24T04:56:42.065731Z"
        },
        "papermill": {
          "duration": 0.06799,
          "end_time": "2021-10-24T05:00:59.516714",
          "exception": false,
          "start_time": "2021-10-24T05:00:59.448724",
          "status": "completed"
        },
        "tags": [],
        "id": "f187590d"
      },
      "outputs": [],
      "source": [
        "scalr = MinMaxScaler()\n",
        "x_smote.TT4 = scalr.fit_transform(x_smote[['TT4']])\n",
        "x_smote.age = scalr.fit_transform(x_smote[['age']])\n",
        "x_smote.FTI = scalr.fit_transform(x_smote[['FTI']])"
      ]
    },
    {
      "cell_type": "markdown",
      "id": "4462b7a7",
      "metadata": {
        "papermill": {
          "duration": 0.046691,
          "end_time": "2021-10-24T05:00:59.821347",
          "exception": false,
          "start_time": "2021-10-24T05:00:59.774656",
          "status": "completed"
        },
        "tags": [],
        "id": "4462b7a7"
      },
      "source": [
        "## **Model Building**"
      ]
    },
    {
      "cell_type": "code",
      "execution_count": 31,
      "id": "f435702b",
      "metadata": {
        "execution": {
          "iopub.execute_input": "2021-10-24T05:00:59.920353Z",
          "iopub.status.busy": "2021-10-24T05:00:59.919580Z",
          "iopub.status.idle": "2021-10-24T05:01:01.140481Z",
          "shell.execute_reply": "2021-10-24T05:01:01.142115Z",
          "shell.execute_reply.started": "2021-10-24T04:56:42.113519Z"
        },
        "papermill": {
          "duration": 1.273941,
          "end_time": "2021-10-24T05:01:01.142609",
          "exception": false,
          "start_time": "2021-10-24T05:00:59.868668",
          "status": "completed"
        },
        "tags": [],
        "colab": {
          "base_uri": "https://localhost:8080/"
        },
        "id": "f435702b",
        "outputId": "bd43137f-0a31-4b78-c41b-4f232b4abdf0"
      },
      "outputs": [
        {
          "output_type": "stream",
          "name": "stdout",
          "text": [
            "Accuracy Score for Logistic Regression is :  93.0939226519337 %\n",
            "Accuracy Score for Support Vector Machine is :  7.458563535911603 %\n",
            "Accuracy Score for Random Forest is :  94.33701657458563 %\n"
          ]
        }
      ],
      "source": [
        "models = {\n",
        "    LogisticRegression(max_iter=500):'Logistic Regression',\n",
        "    SVC():\"Support Vector Machine\",\n",
        "    RandomForestClassifier():'Random Forest'\n",
        "}\n",
        "for m in models.keys():\n",
        "    m.fit(x_smote,y_smote)\n",
        "for model,name in models.items():\n",
        "     print(f\"Accuracy Score for {name} is : \",model.score(X_test,y_test)*100,\"%\")"
      ]
    },
    {
      "cell_type": "markdown",
      "id": "d7c8775d",
      "metadata": {
        "papermill": {
          "duration": 0.047056,
          "end_time": "2021-10-24T05:01:01.340658",
          "exception": false,
          "start_time": "2021-10-24T05:01:01.293602",
          "status": "completed"
        },
        "tags": [],
        "id": "d7c8775d"
      },
      "source": [
        "## **Classification Report.**"
      ]
    },
    {
      "cell_type": "code",
      "execution_count": 32,
      "id": "8fb9ec0a",
      "metadata": {
        "execution": {
          "iopub.execute_input": "2021-10-24T05:01:01.444115Z",
          "iopub.status.busy": "2021-10-24T05:01:01.442843Z",
          "iopub.status.idle": "2021-10-24T05:01:01.567260Z",
          "shell.execute_reply": "2021-10-24T05:01:01.568132Z",
          "shell.execute_reply.started": "2021-10-24T04:56:43.325913Z"
        },
        "papermill": {
          "duration": 0.180483,
          "end_time": "2021-10-24T05:01:01.568398",
          "exception": false,
          "start_time": "2021-10-24T05:01:01.387915",
          "status": "completed"
        },
        "tags": [],
        "colab": {
          "base_uri": "https://localhost:8080/"
        },
        "id": "8fb9ec0a",
        "outputId": "bb33afae-7cbb-442a-f96e-6e108da5a63d"
      },
      "outputs": [
        {
          "output_type": "stream",
          "name": "stdout",
          "text": [
            "Classification Report for Logistic Regression\n",
            "----------------------------------------------------------\n",
            "              precision    recall  f1-score   support\n",
            "\n",
            "           0       1.00      0.07      0.14        54\n",
            "           1       0.93      1.00      0.96       670\n",
            "\n",
            "    accuracy                           0.93       724\n",
            "   macro avg       0.97      0.54      0.55       724\n",
            "weighted avg       0.94      0.93      0.90       724\n",
            "\n",
            "----------------------------------------------------------\n",
            "Classification Report for Support Vector Machine\n",
            "----------------------------------------------------------\n",
            "              precision    recall  f1-score   support\n",
            "\n",
            "           0       0.07      1.00      0.14        54\n",
            "           1       0.00      0.00      0.00       670\n",
            "\n",
            "    accuracy                           0.07       724\n",
            "   macro avg       0.04      0.50      0.07       724\n",
            "weighted avg       0.01      0.07      0.01       724\n",
            "\n",
            "----------------------------------------------------------\n",
            "Classification Report for Random Forest\n",
            "----------------------------------------------------------\n",
            "              precision    recall  f1-score   support\n",
            "\n",
            "           0       1.00      0.24      0.39        54\n",
            "           1       0.94      1.00      0.97       670\n",
            "\n",
            "    accuracy                           0.94       724\n",
            "   macro avg       0.97      0.62      0.68       724\n",
            "weighted avg       0.95      0.94      0.93       724\n",
            "\n",
            "----------------------------------------------------------\n"
          ]
        }
      ],
      "source": [
        "for model,name in models.items():\n",
        "    y_pred = model.predict(X_test)\n",
        "    print(f\"Classification Report for {name}\")  \n",
        "    print(\"----------------------------------------------------------\")\n",
        "    print(classification_report(y_test,y_pred))\n",
        "    print(\"----------------------------------------------------------\")"
      ]
    },
    {
      "cell_type": "code",
      "execution_count": 33,
      "id": "913c7756",
      "metadata": {
        "execution": {
          "iopub.execute_input": "2021-10-24T05:01:01.682465Z",
          "iopub.status.busy": "2021-10-24T05:01:01.681358Z",
          "iopub.status.idle": "2021-10-24T05:01:02.252097Z",
          "shell.execute_reply": "2021-10-24T05:01:02.252573Z",
          "shell.execute_reply.started": "2021-10-24T04:56:43.465347Z"
        },
        "papermill": {
          "duration": 0.629802,
          "end_time": "2021-10-24T05:01:02.252749",
          "exception": false,
          "start_time": "2021-10-24T05:01:01.622947",
          "status": "completed"
        },
        "tags": [],
        "colab": {
          "base_uri": "https://localhost:8080/"
        },
        "id": "913c7756",
        "outputId": "43695613-f31a-423c-c700-01261df3ef4b"
      },
      "outputs": [
        {
          "output_type": "execute_result",
          "data": {
            "text/plain": [
              "0.93646408839779"
            ]
          },
          "metadata": {},
          "execution_count": 33
        }
      ],
      "source": [
        "rf = RandomForestClassifier()\n",
        "rf.fit(x_smote,y_smote)\n",
        "rf.score(X_test,y_test)"
      ]
    },
    {
      "cell_type": "code",
      "execution_count": 34,
      "id": "952133dd",
      "metadata": {
        "execution": {
          "iopub.execute_input": "2021-10-24T05:01:02.352477Z",
          "iopub.status.busy": "2021-10-24T05:01:02.351771Z",
          "iopub.status.idle": "2021-10-24T05:01:02.667273Z",
          "shell.execute_reply": "2021-10-24T05:01:02.666674Z",
          "shell.execute_reply.started": "2021-10-24T04:56:44.012196Z"
        },
        "papermill": {
          "duration": 0.366803,
          "end_time": "2021-10-24T05:01:02.667425",
          "exception": false,
          "start_time": "2021-10-24T05:01:02.300622",
          "status": "completed"
        },
        "tags": [],
        "colab": {
          "base_uri": "https://localhost:8080/",
          "height": 654
        },
        "id": "952133dd",
        "outputId": "4a3ff2cf-0749-44ab-e439-eba9aae79173"
      },
      "outputs": [
        {
          "output_type": "display_data",
          "data": {
            "text/plain": [
              "<Figure size 900x700 with 1 Axes>"
            ],
            "image/png": "[encoded data removed]"
          },
          "metadata": {}
        }
      ],
      "source": [
        "plt.figure(figsize=(9,7))\n",
        "feature_imp1 = rf.feature_importances_\n",
        "sns.barplot(x=feature_imp1, y=X.columns)\n",
        "# Add labels to your graph\n",
        "plt.xlabel('Feature Importance Score')\n",
        "plt.ylabel('Features')\n",
        "plt.title(\"Visualizing Important Features For Random Forest \",{'fontsize':25})\n",
        "plt.show();"
      ]
    },
    {
      "cell_type": "code",
      "execution_count": 35,
      "id": "86f44861",
      "metadata": {
        "execution": {
          "iopub.execute_input": "2021-10-24T05:01:02.773954Z",
          "iopub.status.busy": "2021-10-24T05:01:02.773215Z",
          "iopub.status.idle": "2021-10-24T05:01:02.776681Z",
          "shell.execute_reply": "2021-10-24T05:01:02.777355Z",
          "shell.execute_reply.started": "2021-10-24T04:56:44.327102Z"
        },
        "papermill": {
          "duration": 0.060907,
          "end_time": "2021-10-24T05:01:02.777534",
          "exception": false,
          "start_time": "2021-10-24T05:01:02.716627",
          "status": "completed"
        },
        "tags": [],
        "id": "86f44861"
      },
      "outputs": [],
      "source": [
        "x_smote.drop(['sick', 'pregnant', 'I131 treatment',\n",
        "              'lithium', 'goitre', 'tumor'], axis=1, inplace=True)\n",
        "X_test.drop(['sick', 'pregnant', 'I131 treatment',\n",
        "              'lithium', 'goitre', 'tumor'], axis=1, inplace=True)\n"
      ]
    },
    {
      "cell_type": "code",
      "execution_count": 36,
      "id": "2efd9dd3",
      "metadata": {
        "execution": {
          "iopub.execute_input": "2021-10-24T05:01:02.880216Z",
          "iopub.status.busy": "2021-10-24T05:01:02.879322Z",
          "iopub.status.idle": "2021-10-24T05:01:03.435930Z",
          "shell.execute_reply": "2021-10-24T05:01:03.436504Z",
          "shell.execute_reply.started": "2021-10-24T04:56:44.336216Z"
        },
        "papermill": {
          "duration": 0.6094,
          "end_time": "2021-10-24T05:01:03.436681",
          "exception": false,
          "start_time": "2021-10-24T05:01:02.827281",
          "status": "completed"
        },
        "tags": [],
        "colab": {
          "base_uri": "https://localhost:8080/"
        },
        "id": "2efd9dd3",
        "outputId": "50fca30b-ec49-4887-ec37-2b9cec591870"
      },
      "outputs": [
        {
          "output_type": "execute_result",
          "data": {
            "text/plain": [
              "0.9392265193370166"
            ]
          },
          "metadata": {},
          "execution_count": 36
        }
      ],
      "source": [
        "new_rf = RandomForestClassifier()\n",
        "new_rf.fit(x_smote,y_smote)\n",
        "new_rf.score(X_test,y_test)"
      ]
    },
    {
      "cell_type": "code",
      "execution_count": 37,
      "id": "d4d9271e",
      "metadata": {
        "execution": {
          "iopub.execute_input": "2021-10-24T05:01:03.661700Z",
          "iopub.status.busy": "2021-10-24T05:01:03.660919Z",
          "iopub.status.idle": "2021-10-24T05:01:03.664611Z",
          "shell.execute_reply": "2021-10-24T05:01:03.663947Z",
          "shell.execute_reply.started": "2021-10-24T04:56:44.879324Z"
        },
        "papermill": {
          "duration": 0.073206,
          "end_time": "2021-10-24T05:01:03.664752",
          "exception": false,
          "start_time": "2021-10-24T05:01:03.591546",
          "status": "completed"
        },
        "tags": [],
        "colab": {
          "base_uri": "https://localhost:8080/",
          "height": 206
        },
        "id": "d4d9271e",
        "outputId": "d4cb3446-73b2-4b7e-f5d8-897749e37c1a"
      },
      "outputs": [
        {
          "output_type": "execute_result",
          "data": {
            "text/plain": [
              "    age sex sick pregnant thyroid surgery I131 treatment lithium goitre tumor  \\\n",
              "0  41.0   F    f        f               f              f       f      f     f   \n",
              "1  23.0   F    f        f               f              f       f      f     f   \n",
              "2  46.0   M    f        f               f              f       f      f     f   \n",
              "3  70.0   F    f        f               f              f       f      f     f   \n",
              "4  70.0   F    f        f               f              f       f      f     f   \n",
              "\n",
              "    TSH      T3    TT4    T4U         FTI Label  \n",
              "0  1.30  2.5000  125.0  1.140  109.000000     P  \n",
              "1  4.10  2.0000  102.0  0.995  110.469649     P  \n",
              "2  0.98  2.0135  109.0  0.910  120.000000     P  \n",
              "3  0.16  1.9000  175.0  0.995  110.469649     P  \n",
              "4  0.72  1.2000   61.0  0.870   70.000000     P  "
            ],
            "text/html": [
              "\n",
              "  <div id=\"df-c26cc97a-dc88-4277-9939-a47baf55d060\">\n",
              "    <div class=\"colab-df-container\">\n",
              "      <div>\n",
              "<style scoped>\n",
              "    .dataframe tbody tr th:only-of-type {\n",
              "        vertical-align: middle;\n",
              "    }\n",
              "\n",
              "    .dataframe tbody tr th {\n",
              "        vertical-align: top;\n",
              "    }\n",
              "\n",
              "    .dataframe thead th {\n",
              "        text-align: right;\n",
              "    }\n",
              "</style>\n",
              "<table border=\"1\" class=\"dataframe\">\n",
              "  <thead>\n",
              "    <tr style=\"text-align: right;\">\n",
              "      <th></th>\n",
              "      <th>age</th>\n",
              "      <th>sex</th>\n",
              "      <th>sick</th>\n",
              "      <th>pregnant</th>\n",
              "      <th>thyroid surgery</th>\n",
              "      <th>I131 treatment</th>\n",
              "      <th>lithium</th>\n",
              "      <th>goitre</th>\n",
              "      <th>tumor</th>\n",
              "      <th>TSH</th>\n",
              "      <th>T3</th>\n",
              "      <th>TT4</th>\n",
              "      <th>T4U</th>\n",
              "      <th>FTI</th>\n",
              "      <th>Label</th>\n",
              "    </tr>\n",
              "  </thead>\n",
              "  <tbody>\n",
              "    <tr>\n",
              "      <th>0</th>\n",
              "      <td>41.0</td>\n",
              "      <td>F</td>\n",
              "      <td>f</td>\n",
              "      <td>f</td>\n",
              "      <td>f</td>\n",
              "      <td>f</td>\n",
              "      <td>f</td>\n",
              "      <td>f</td>\n",
              "      <td>f</td>\n",
              "      <td>1.30</td>\n",
              "      <td>2.5000</td>\n",
              "      <td>125.0</td>\n",
              "      <td>1.140</td>\n",
              "      <td>109.000000</td>\n",
              "      <td>P</td>\n",
              "    </tr>\n",
              "    <tr>\n",
              "      <th>1</th>\n",
              "      <td>23.0</td>\n",
              "      <td>F</td>\n",
              "      <td>f</td>\n",
              "      <td>f</td>\n",
              "      <td>f</td>\n",
              "      <td>f</td>\n",
              "      <td>f</td>\n",
              "      <td>f</td>\n",
              "      <td>f</td>\n",
              "      <td>4.10</td>\n",
              "      <td>2.0000</td>\n",
              "      <td>102.0</td>\n",
              "      <td>0.995</td>\n",
              "      <td>110.469649</td>\n",
              "      <td>P</td>\n",
              "    </tr>\n",
              "    <tr>\n",
              "      <th>2</th>\n",
              "      <td>46.0</td>\n",
              "      <td>M</td>\n",
              "      <td>f</td>\n",
              "      <td>f</td>\n",
              "      <td>f</td>\n",
              "      <td>f</td>\n",
              "      <td>f</td>\n",
              "      <td>f</td>\n",
              "      <td>f</td>\n",
              "      <td>0.98</td>\n",
              "      <td>2.0135</td>\n",
              "      <td>109.0</td>\n",
              "      <td>0.910</td>\n",
              "      <td>120.000000</td>\n",
              "      <td>P</td>\n",
              "    </tr>\n",
              "    <tr>\n",
              "      <th>3</th>\n",
              "      <td>70.0</td>\n",
              "      <td>F</td>\n",
              "      <td>f</td>\n",
              "      <td>f</td>\n",
              "      <td>f</td>\n",
              "      <td>f</td>\n",
              "      <td>f</td>\n",
              "      <td>f</td>\n",
              "      <td>f</td>\n",
              "      <td>0.16</td>\n",
              "      <td>1.9000</td>\n",
              "      <td>175.0</td>\n",
              "      <td>0.995</td>\n",
              "      <td>110.469649</td>\n",
              "      <td>P</td>\n",
              "    </tr>\n",
              "    <tr>\n",
              "      <th>4</th>\n",
              "      <td>70.0</td>\n",
              "      <td>F</td>\n",
              "      <td>f</td>\n",
              "      <td>f</td>\n",
              "      <td>f</td>\n",
              "      <td>f</td>\n",
              "      <td>f</td>\n",
              "      <td>f</td>\n",
              "      <td>f</td>\n",
              "      <td>0.72</td>\n",
              "      <td>1.2000</td>\n",
              "      <td>61.0</td>\n",
              "      <td>0.870</td>\n",
              "      <td>70.000000</td>\n",
              "      <td>P</td>\n",
              "    </tr>\n",
              "  </tbody>\n",
              "</table>\n",
              "</div>\n",
              "      <button class=\"colab-df-convert\" onclick=\"convertToInteractive('df-c26cc97a-dc88-4277-9939-a47baf55d060')\"\n",
              "              title=\"Convert this dataframe to an interactive table.\"\n",
              "              style=\"display:none;\">\n",
              "        \n",
              "  <svg xmlns=\"http://www.w3.org/2000/svg\" height=\"24px\"viewBox=\"0 0 24 24\"\n",
              "       width=\"24px\">\n",
              "    <path d=\"M0 0h24v24H0V0z\" fill=\"none\"/>\n",
              "    <path d=\"M18.56 5.44l.94 2.06.94-2.06 2.06-.94-2.06-.94-.94-2.06-.94 2.06-2.06.94zm-11 1L8.5 8.5l.94-2.06 2.06-.94-2.06-.94L8.5 2.5l-.94 2.06-2.06.94zm10 10l.94 2.06.94-2.06 2.06-.94-2.06-.94-.94-2.06-.94 2.06-2.06.94z\"/><path d=\"M17.41 7.96l-1.37-1.37c-.4-.4-.92-.59-1.43-.59-.52 0-1.04.2-1.43.59L10.3 9.45l-7.72 7.72c-.78.78-.78 2.05 0 2.83L4 21.41c.39.39.9.59 1.41.59.51 0 1.02-.2 1.41-.59l7.78-7.78 2.81-2.81c.8-.78.8-2.07 0-2.86zM5.41 20L4 18.59l7.72-7.72 1.47 1.35L5.41 20z\"/>\n",
              "  </svg>\n",
              "      </button>\n",
              "      \n",
              "  <style>\n",
              "    .colab-df-container {\n",
              "      display:flex;\n",
              "      flex-wrap:wrap;\n",
              "      gap: 12px;\n",
              "    }\n",
              "\n",
              "    .colab-df-convert {\n",
              "      background-color: #E8F0FE;\n",
              "      border: none;\n",
              "      border-radius: 50%;\n",
              "      cursor: pointer;\n",
              "      display: none;\n",
              "      fill: #1967D2;\n",
              "      height: 32px;\n",
              "      padding: 0 0 0 0;\n",
              "      width: 32px;\n",
              "    }\n",
              "\n",
              "    .colab-df-convert:hover {\n",
              "      background-color: #E2EBFA;\n",
              "      box-shadow: 0px 1px 2px rgba(60, 64, 67, 0.3), 0px 1px 3px 1px rgba(60, 64, 67, 0.15);\n",
              "      fill: #174EA6;\n",
              "    }\n",
              "\n",
              "    [theme=dark] .colab-df-convert {\n",
              "      background-color: #3B4455;\n",
              "      fill: #D2E3FC;\n",
              "    }\n",
              "\n",
              "    [theme=dark] .colab-df-convert:hover {\n",
              "      background-color: #434B5C;\n",
              "      box-shadow: 0px 1px 3px 1px rgba(0, 0, 0, 0.15);\n",
              "      filter: drop-shadow(0px 1px 2px rgba(0, 0, 0, 0.3));\n",
              "      fill: #FFFFFF;\n",
              "    }\n",
              "  </style>\n",
              "\n",
              "      <script>\n",
              "        const buttonEl =\n",
              "          document.querySelector('#df-c26cc97a-dc88-4277-9939-a47baf55d060 button.colab-df-convert');\n",
              "        buttonEl.style.display =\n",
              "          google.colab.kernel.accessAllowed ? 'block' : 'none';\n",
              "\n",
              "        async function convertToInteractive(key) {\n",
              "          const element = document.querySelector('#df-c26cc97a-dc88-4277-9939-a47baf55d060');\n",
              "          const dataTable =\n",
              "            await google.colab.kernel.invokeFunction('convertToInteractive',\n",
              "                                                     [key], {});\n",
              "          if (!dataTable) return;\n",
              "\n",
              "          const docLinkHtml = 'Like what you see? Visit the ' +\n",
              "            '<a target=\"_blank\" href=https://colab.research.google.com/notebooks/data_table.ipynb>data table notebook</a>'\n",
              "            + ' to learn more about interactive tables.';\n",
              "          element.innerHTML = '';\n",
              "          dataTable['output_type'] = 'display_data';\n",
              "          await google.colab.output.renderOutput(dataTable, element);\n",
              "          const docLink = document.createElement('div');\n",
              "          docLink.innerHTML = docLinkHtml;\n",
              "          element.appendChild(docLink);\n",
              "        }\n",
              "      </script>\n",
              "    </div>\n",
              "  </div>\n",
              "  "
            ]
          },
          "metadata": {},
          "execution_count": 37
        }
      ],
      "source": [
        "thyroid_df.head()"
      ]
    }
  ],
  "metadata": {
    "kernelspec": {
      "display_name": "Python 3",
      "language": "python",
      "name": "python3"
    },
    "language_info": {
      "codemirror_mode": {
        "name": "ipython",
        "version": 3
      },
      "file_extension": ".py",
      "mimetype": "text/x-python",
      "name": "python",
      "nbconvert_exporter": "python",
      "pygments_lexer": "ipython3",
      "version": "3.7.10"
    },
    "papermill": {
      "default_parameters": {},
      "duration": 21.375221,
      "end_time": "2021-10-24T05:01:04.731874",
      "environment_variables": {},
      "exception": null,
      "input_path": "__notebook__.ipynb",
      "output_path": "__notebook__.ipynb",
      "parameters": {},
      "start_time": "2021-10-24T05:00:43.356653",
      "version": "2.3.3"
    },
    "colab": {
      "provenance": []
    }
  },
  "nbformat": 4,
  "nbformat_minor": 5
}